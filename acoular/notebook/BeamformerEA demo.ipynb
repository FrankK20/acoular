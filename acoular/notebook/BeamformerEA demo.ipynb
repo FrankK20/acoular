{
 "cells": [
  {
   "cell_type": "markdown",
   "metadata": {},
   "source": [
    "## BeamformerEA demo notebook\n",
    "This notebook demonstartes the use of the BeamformerEA acoular class. The BeamformerEA reconstructs \n",
    "an acoustic field using monopole sound sources. Unlike the other beamformer in acoular, it uses a variable grid to reconstruct the sources. It can correctly find the positions and the source strengths. To achieve this goal, a global optimization problem is solved using the evolutionary algorithm differential evolution from the scipyt.optimice python package. \n",
    "\n",
    "Below is a synthetic data set with a monopole acoustic source evaluated with BeamformerEA, BeamformerBase and BeamformerCMF. The monoopole source shall be positioned at x_s = 0.5, y_s = 0.0, z_s = 0.75 with a rms amplitude of 1.0 in 1 m distance. The variable search gird for the source shall be defined on the x,y - surface with bounds:  x = [-1.0, 1.0] y = [-1.0, 1.0] z = [0.75, 0.75] d = [0.0, 1.0]. Where d are the bounds for the source strength "
   ]
  },
  {
   "cell_type": "code",
   "execution_count": 1,
   "metadata": {},
   "outputs": [],
   "source": [
    "from acoular import *\n",
    "from os import path\n",
    "from acoular import __file__ as bpath\n",
    "import matplotlib.pyplot as plt\n",
    "\n",
    "# load some array geometry\n",
    "micgeofile = path.join(path.split(bpath)[0], 'xml', 'array_64.xml')\n",
    "MICGEOM = MicGeom(from_file=micgeofile) \n",
    "\n",
    "# set sampling frequency and singal time \n",
    "SFREQ = 51200\n",
    "TIME = 1\n",
    "NUM_SAMPLES = TIME * SFREQ\n",
    "BLOCK_SIZE = 128\n",
    "\n",
    "# create some exemplary synthetic data of one monopole point source\n",
    "# with white noise signal. \n",
    "h5savefile = 'Test_dat.h5'\n",
    "n = WNoiseGenerator(sample_freq=SFREQ, numsamples=NUM_SAMPLES, seed=0)\n",
    "p = PointSource(signal=n, mics=MICGEOM, loc=(0.5,0.0,0.75))\n",
    "wh5 = WriteH5(source=p, name=h5savefile)\n",
    "wh5.save()"
   ]
  },
  {
   "cell_type": "markdown",
   "metadata": {},
   "source": [
    "## BeamformerEA"
   ]
  },
  {
   "cell_type": "code",
   "execution_count": 49,
   "metadata": {},
   "outputs": [],
   "source": [
    "# Define boundary for source position and source strength variation.\n",
    "# The amount of monopole sources used for the reconstruction is defined by the \n",
    "# length of the GRID_BOUNDS array, which has to be a multiple of 4.  \n",
    "# The amount of sources used for the reconstruction is then len(GRID_BOUNDS)/4.\n",
    "# GRID_BOUNDS = [(x_s1l, x_s1r),(y_s1l, y_s1r),(z_s1l, z_s1r),(d1l, d1r), ...]\n",
    "# where x_s1l, x_s1r are the lower and upper bounds for the positional variation of source one\n",
    "# and d1l, d1r are the bounds for its source strength variation.\n",
    "# In our example we want to search for the source position and source strength in \n",
    "# the x,y plane at the fixed height z = 0.75.Therefore the third tuple contains (0.75,0.75)\n",
    "# We want to use only one source, so our GRID_BOUDS is the following array:\n",
    "GRID_BOUNDS = [(-1., 1.), (-1., 1.), (0.75, 0.75), (0., 1.)]\n",
    "# The BeamformerEA requires an MicGeom object, an PowerSpectra object and a GRID_BOUNDS array \n",
    "# for source reconstruction. In order to avoid deprecation warnings the MicGeom object will be\n",
    "# passed through the SteeringVector object, which may change in the future.\n",
    "\n",
    "SV_EA = SteeringVector(mics=MICGEOM, grid=GR) \n",
    "ts = TimeSamples(name='Test_dat.h5', sample_freq=SFREQ)\n",
    "ps = PowerSpectra(time_data=ts, block_size=BLOCK_SIZE, window='Hanning')\n",
    "bea = BeamformerEA(steer = SV_EA, freq_data=ps)"
   ]
  },
  {
   "cell_type": "code",
   "execution_count": 50,
   "metadata": {},
   "outputs": [],
   "source": [
    "# set bounds automaticly sets number of sources n\n",
    "bea.bounds = [(-1., 1.), (-1., 1.), (0.75, 0.75), (0., 1.)]*2"
   ]
  },
  {
   "cell_type": "code",
   "execution_count": 51,
   "metadata": {
    "scrolled": true
   },
   "outputs": [
    {
     "name": "stdout",
     "output_type": "stream",
     "text": [
      "[('Test_dat_cache.h5', 6)]\n",
      "[('Test_dat_cache.h5', 7)]\n",
      "calculating frequency:  400.0\n",
      "0.0021999792087625814\n",
      "0.017547435462324068\n",
      "calculating frequency:  800.0\n",
      "0.012233094697912616\n",
      "0.0065121923515870095\n",
      "calculating frequency:  1200.0\n",
      "0.009884100985809274\n",
      "0.008627075598940492\n",
      "calculating frequency:  1600.0\n",
      "0.008283888946907347\n",
      "0.010611539072861775\n",
      "calculating frequency:  2000.0\n",
      "0.010731322079669758\n",
      "0.00887483925528254\n",
      "calculating frequency:  2400.0\n",
      "0.008462313786315234\n",
      "0.010057810945542534\n",
      "calculating frequency:  2800.0\n",
      "0.008242771265677684\n",
      "0.009074237709700617\n",
      "calculating frequency:  3200.0\n",
      "0.00894843231503134\n",
      "0.009843580339523317\n",
      "calculating frequency:  3600.0\n",
      "0.01058968842472513\n",
      "0.009489298647046673\n",
      "calculating frequency:  4000.0\n",
      "0.009317152083208768\n",
      "0.011542331849243803\n",
      "calculating frequency:  4400.0\n",
      "0.008978065435468974\n",
      "0.00849942815528032\n",
      "calculating frequency:  4800.0\n",
      "0.01100367716538514\n",
      "0.008313040502065994\n",
      "calculating frequency:  5200.0\n",
      "0.012125776212596695\n",
      "0.009001296222036659\n",
      "calculating frequency:  5600.0\n",
      "0.009735105454471649\n",
      "0.010629071263137724\n",
      "calculating frequency:  6000.0\n",
      "0.012144897153760437\n",
      "0.009002344529960848\n",
      "calculating frequency:  6400.0\n",
      "0.010565610835983563\n",
      "0.009020558458565198\n",
      "calculating frequency:  6800.0\n",
      "0.010222805861030526\n",
      "0.008309503328384482\n",
      "calculating frequency:  7200.0\n",
      "0.009459283372171057\n",
      "0.01072162687693079\n",
      "calculating frequency:  7600.0\n",
      "0.008746008787878734\n",
      "0.012012931410601946\n",
      "calculating frequency:  8000.0\n",
      "0.011221392146527898\n",
      "0.009232959244719174\n",
      "calculating frequency:  8400.0\n",
      "0.011444996474604507\n",
      "0.008204140401061988\n",
      "calculating frequency:  8800.0\n",
      "0.011283392694259264\n",
      "0.008947818983087996\n",
      "calculating frequency:  9200.0\n",
      "0.008871910058202481\n",
      "0.01051649954533096\n",
      "calculating frequency:  9600.0\n",
      "0.009347517525770066\n",
      "0.010478106960930933\n",
      "calculating frequency:  10000.0\n",
      "0.01973436151309821\n",
      "0.00010689055644230727\n",
      "calculating frequency:  10400.0\n",
      "0.00902793178842698\n",
      "0.010673424595266379\n",
      "calculating frequency:  10800.0\n",
      "0.01050179911356447\n",
      "0.008365810277803698\n",
      "calculating frequency:  11200.0\n",
      "0.00791990691935468\n",
      "0.010462726506885622\n",
      "calculating frequency:  11600.0\n",
      "0.009669610205802814\n",
      "0.009262014210245861\n",
      "calculating frequency:  12000.0\n",
      "0.0073760022649577706\n",
      "0.01173345678904364\n",
      "calculating frequency:  12400.0\n",
      "3.81638162480491e-05\n",
      "0.018116183837053768\n",
      "calculating frequency:  12800.0\n",
      "2.5778552063759896e-05\n",
      "0.017690968284620356\n",
      "calculating frequency:  13200.0\n",
      "0.007303489187298728\n",
      "0.009701727223932977\n",
      "calculating frequency:  13600.0\n",
      "0.01633738410059865\n",
      "6.162076782917358e-05\n",
      "calculating frequency:  14000.0\n",
      "0.00572597029768851\n",
      "0.011114632486298737\n",
      "calculating frequency:  14400.0\n",
      "0.010479993600833404\n",
      "0.0068319410044550555\n",
      "calculating frequency:  14800.0\n",
      "0.016479443202654542\n",
      "6.609636620275028e-05\n",
      "calculating frequency:  15200.0\n",
      "0.017282760437296874\n",
      "0.00013828068534932347\n",
      "calculating frequency:  15600.0\n",
      "0.011940644711059267\n",
      "0.007483919030413344\n",
      "calculating frequency:  16000.0\n",
      "0.01876872845708616\n",
      "1.6507331094040012e-05\n",
      "calculating frequency:  16400.0\n",
      "4.8280876066286726e-05\n",
      "0.018974240149850885\n",
      "calculating frequency:  16800.0\n",
      "2.2468826394117514e-05\n",
      "0.018272152183164303\n",
      "calculating frequency:  17200.0\n",
      "0.01926341771226131\n",
      "0.00011693864471357118\n",
      "calculating frequency:  17600.0\n",
      "0.018660868209796122\n",
      "5.07608671057036e-05\n",
      "calculating frequency:  18000.0\n",
      "0.018114532235824488\n",
      "5.602912692126427e-05\n",
      "calculating frequency:  18400.0\n",
      "0.00665245570979317\n",
      "0.012299094948360512\n",
      "calculating frequency:  18800.0\n",
      "0.018173947904846943\n",
      "2.132518600894695e-05\n",
      "calculating frequency:  19200.0\n",
      "0.0013635773647872607\n",
      "0.0004445042968716506\n",
      "calculating frequency:  19600.0\n",
      "9.099280261554155e-05\n",
      "0.018124621099854632\n",
      "calculating frequency:  20000.0\n",
      "0.018722863320263294\n",
      "4.892680342993838e-05\n",
      "calculating frequency:  20400.0\n",
      "0.00826845963364825\n",
      "0.010681616893285173\n",
      "calculating frequency:  20800.0\n",
      "2.1402707706952295e-05\n",
      "0.01837194665758496\n",
      "calculating frequency:  21200.0\n",
      "8.310996372873358e-05\n",
      "0.019540985510137054\n",
      "calculating frequency:  21600.0\n",
      "0.0008181237803670527\n",
      "0.0005872176748951685\n",
      "calculating frequency:  22000.0\n",
      "0.009992031731839601\n",
      "0.008102440932521049\n",
      "calculating frequency:  22400.0\n",
      "0.0002932576411058263\n",
      "0.0011948916061044201\n",
      "calculating frequency:  22800.0\n",
      "0.01842889619780924\n",
      "1.7999901212650826e-05\n",
      "calculating frequency:  23200.0\n",
      "0.000490188313302331\n",
      "0.00018519346174872275\n",
      "calculating frequency:  23600.0\n",
      "0.017492176307821516\n",
      "0.0001138259671119024\n",
      "calculating frequency:  24000.0\n",
      "8.358843845851505e-05\n",
      "0.017283340078573184\n",
      "calculating frequency:  24400.0\n",
      "0.0009803070624155308\n",
      "0.0003524888066270271\n",
      "calculating frequency:  24800.0\n",
      "0.00039727385221449696\n",
      "0.002049412605755807\n",
      "calculating frequency:  25200.0\n",
      "0.017838467297592697\n",
      "2.4457706529701362e-05\n"
     ]
    }
   ],
   "source": [
    "# reconstructs the sound pressure field in all small band frequencies \n",
    "# this calculation takes some (time 10 min with 1 source, 30 min with 2 sources)\n",
    "res_BEA = bea.synthetic(800, 0)"
   ]
  },
  {
   "cell_type": "code",
   "execution_count": 52,
   "metadata": {},
   "outputs": [
    {
     "name": "stdout",
     "output_type": "stream",
     "text": [
      "[ 0.          0.         -0.26923386  0.59881927  0.64698803  0.27236614\n",
      "  0.63069012  0.37962584  0.40139835  0.59353665]\n",
      "[ 0.00000000e+00  0.00000000e+00 -2.58092953e-03 -2.51792961e-04\n",
      "  1.20906160e-03 -2.57590816e-03  4.16848333e-04 -8.02620737e-04\n",
      " -3.16053878e-05  8.15412379e-06]\n",
      "[0.   0.   0.75 0.75 0.75 0.75 0.75 0.75 0.75 0.75]\n"
     ]
    }
   ],
   "source": [
    "print(bea._gpos[0,:10])\n",
    "print(bea._gpos[1,:10])\n",
    "print(bea._gpos[2,:10])"
   ]
  },
  {
   "cell_type": "code",
   "execution_count": 57,
   "metadata": {},
   "outputs": [
    {
     "data": {
      "text/plain": [
       "(-1.0, 1.0)"
      ]
     },
     "execution_count": 57,
     "metadata": {},
     "output_type": "execute_result"
    },
    {
     "data": {
      "image/png": "[encoded data removed]",
      "text/plain": [
       "<Figure size 432x288 with 1 Axes>"
      ]
     },
     "metadata": {
      "needs_background": "light"
     },
     "output_type": "display_data"
    }
   ],
   "source": [
    "plt.scatter(bea._gpos[0,::],bea._gpos[1,::])\n",
    "plt.xlim(-1,1)\n",
    "plt.ylim(-1,1)"
   ]
  },
  {
   "cell_type": "code",
   "execution_count": 56,
   "metadata": {},
   "outputs": [
    {
     "data": {
      "text/plain": [
       "76.70832103899558"
      ]
     },
     "execution_count": 56,
     "metadata": {},
     "output_type": "execute_result"
    }
   ],
   "source": [
    "L_p(sum(res_BEA))"
   ]
  },
  {
   "cell_type": "markdown",
   "metadata": {},
   "source": [
    "# Old way to use BeamformerEA"
   ]
  },
  {
   "cell_type": "code",
   "execution_count": 36,
   "metadata": {
    "scrolled": false
   },
   "outputs": [
    {
     "name": "stdout",
     "output_type": "stream",
     "text": [
      "     fun: 0.0033918981056006805\n",
      " message: 'Optimization terminated successfully.'\n",
      "    nfev: 1635\n",
      "     nit: 26\n",
      " success: True\n",
      "       x: array([ 4.93305995e-01, -7.09066006e-05,  7.50000000e-01,  1.81392047e-02])\n",
      "76.56558250579198\n"
     ]
    },
    {
     "data": {
      "image/png": "[encoded data removed]",
      "text/plain": [
       "<Figure size 432x288 with 2 Axes>"
      ]
     },
     "metadata": {
      "needs_background": "light"
     },
     "output_type": "display_data"
    }
   ],
   "source": [
    "# The main BeamformerEA method which calculates source position and \n",
    "# source strengths on a variable Grid defined by GRID_BOUNDS in\n",
    "# the narrow band with frequency 800 Hz. \n",
    "res_BEA = bea.calculate(GRID_BOUNDS, 800)\n",
    "\n",
    "# The BeamformerEA calculate method returns an scipy.optimize.OpimizeResult object, \n",
    "# in which x contains the found coordinates and strength of the sources used for reconstruction.\n",
    "# In our exemplary case this would be: \n",
    "# res_BEA.x[0] - x - coordinate  source 1\n",
    "# res_BEA.x[1] - y - coordinate  source 1\n",
    "# res_BEA.x[2] - z - coordinate  source 1\n",
    "# res_BEA.x[3] - source strength source 1\n",
    "print(res_BEA)\n",
    "\n",
    "# For the graphical representation of the results only one point has to be plotted, \n",
    "# which can be achieved with pyplot.scatter.\n",
    "plt.figure()\n",
    "plt.scatter(res_BEA.x[0],res_BEA.x[1],c=L_p(res_BEA.x[3]),cmap= 'hot_r')\n",
    "plt.suptitle(\"Reconstruction using BeamformerEA\")\n",
    "plt.xlim(-1,1)\n",
    "plt.ylim(-1,1)\n",
    "plt.colorbar()\n",
    "\n",
    "print(L_p(res_BEA.x[3]))"
   ]
  },
  {
   "cell_type": "markdown",
   "metadata": {},
   "source": [
    "As can be seen, the BeamformerEA finds the the source in the correct position. "
   ]
  },
  {
   "cell_type": "markdown",
   "metadata": {},
   "source": [
    "# BeamformerGridlessOrth"
   ]
  },
  {
   "cell_type": "code",
   "execution_count": 43,
   "metadata": {
    "scrolled": false
   },
   "outputs": [
    {
     "name": "stdout",
     "output_type": "stream",
     "text": [
      "[('Test_dat_cache.h5', 5)]\n"
     ]
    }
   ],
   "source": [
    "GR = RectGrid(x_min=-1,x_max=1, y_min=-1, y_max=1, z=0.75,increment=0.1)\n",
    "SV = SteeringVector(grid=GR, mics=MICGEOM)\n",
    "bgo = BeamformerGridlessOrth(freq_data=ps,steer=SV, bounds=[(-1.,1.),(-1.,1.),(0.74,0.75)])\n",
    "bgo.n = 1\n",
    "\n",
    "res_bgo = bgo.synthetic(1600,0)"
   ]
  },
  {
   "cell_type": "code",
   "execution_count": 44,
   "metadata": {},
   "outputs": [
    {
     "name": "stdout",
     "output_type": "stream",
     "text": [
      "[0. 0. 0. 0. 0. 0. 0. 0. 0. 0.]\n",
      "[0. 0. 0. 0. 0. 0. 0. 0. 0. 0.]\n",
      "[0. 0. 0. 0. 0. 0. 0. 0. 0. 0.]\n"
     ]
    }
   ],
   "source": [
    "print(bgo._gpos[0,:10])\n",
    "print(bgo._gpos[1,:10])\n",
    "print(bgo._gpos[2,:10])"
   ]
  },
  {
   "cell_type": "code",
   "execution_count": 45,
   "metadata": {},
   "outputs": [
    {
     "data": {
      "text/plain": [
       "array([0., 0., 0., 0., 0., 0., 0., 0., 0., 0., 0., 0., 0., 0., 0., 0., 0.,\n",
       "       0., 0., 0., 0., 0., 0., 0., 0., 0., 0., 0., 0., 0., 0., 0., 0., 0.,\n",
       "       0., 0., 0., 0., 0., 0., 0., 0., 0., 0., 0., 0., 0., 0., 0., 0., 0.,\n",
       "       0., 0., 0., 0., 0., 0., 0., 0., 0., 0., 0., 0., 0., 0.])"
      ]
     },
     "execution_count": 45,
     "metadata": {},
     "output_type": "execute_result"
    }
   ],
   "source": [
    "res_bgo"
   ]
  },
  {
   "cell_type": "code",
   "execution_count": 46,
   "metadata": {},
   "outputs": [
    {
     "data": {
      "text/plain": [
       "(-1.0, 1.0)"
      ]
     },
     "execution_count": 46,
     "metadata": {},
     "output_type": "execute_result"
    },
    {
     "data": {
      "image/png": "[encoded data removed]",
      "text/plain": [
       "<Figure size 432x288 with 1 Axes>"
      ]
     },
     "metadata": {
      "needs_background": "light"
     },
     "output_type": "display_data"
    }
   ],
   "source": [
    "plt.scatter(bgo._gpos[0,:10],bgo._gpos[1,:10])\n",
    "plt.xlim(-1,1)\n",
    "plt.ylim(-1,1)"
   ]
  },
  {
   "cell_type": "markdown",
   "metadata": {},
   "source": [
    "## BeamformerBase"
   ]
  },
  {
   "cell_type": "code",
   "execution_count": null,
   "metadata": {},
   "outputs": [],
   "source": [
    "#define grid and steering vector for BeamformerBase and BeamformerCMF\n",
    "GR = RectGrid(x_min=-1,x_max=1, y_min=-1, y_max=1, z=0.75,increment=0.1)\n",
    "SV = SteeringVector(grid=GR, mics=MICGEOM)\n",
    "\n",
    "beb = BeamformerBase(freq_data=ps,steer=SV)\n",
    "res_BEB = beb.synthetic(800,0)\n",
    "\n",
    "im = plt.imshow(L_p(res_BEB.T),vmax=70,vmin=65,extent=GR.extend(),cmap= 'hot_r')\n",
    "plt.suptitle(\"BeamformerBase\")\n",
    "plt.colorbar()"
   ]
  },
  {
   "cell_type": "markdown",
   "metadata": {},
   "source": [
    "## BeamformerCMF"
   ]
  },
  {
   "cell_type": "code",
   "execution_count": null,
   "metadata": {},
   "outputs": [],
   "source": [
    "#becmf = BeamformerCMF(freq_data=ps,grid=GR, mpos=MICGEOM)\n",
    "becmf = BeamformerCMF(freq_data=ps,steer=SV)\n",
    "res_CMF = becmf.synthetic(800,0)\n",
    "\n",
    "im = plt.imshow(L_p(res_CMF.T),vmax=70,vmin=65,extent=GR.extend(),cmap= 'hot_r')\n",
    "plt.suptitle(\"BeamformerCMF\")\n",
    "\n",
    "plt.colorbar()"
   ]
  },
  {
   "cell_type": "markdown",
   "metadata": {},
   "source": [
    "The results from BeamformerBase and BeamformerCMF are close to BeamformerEA, source position and strength are similar. Nevertheless the results are only conditionally comparable, because the BeamformerEA uses a variable grid.  "
   ]
  }
 ],
 "metadata": {
  "kernelspec": {
   "display_name": "acoular",
   "language": "python",
   "name": "acoular"
  },
  "language_info": {
   "codemirror_mode": {
    "name": "ipython",
    "version": 3
   },
   "file_extension": ".py",
   "mimetype": "text/x-python",
   "name": "python",
   "nbconvert_exporter": "python",
   "pygments_lexer": "ipython3",
   "version": "3.6.10"
  }
 },
 "nbformat": 4,
 "nbformat_minor": 4
}
