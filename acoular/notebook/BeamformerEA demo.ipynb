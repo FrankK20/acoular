{
 "cells": [
  {
   "cell_type": "markdown",
   "metadata": {},
   "source": [
    "## BeamformerEA demo notebook\n",
    "This notebook demonstartes the use of the BeamformerEA acoular class. The BeamformerEA reconstructs \n",
    "an acoustic field using monopole sound sources. Unlike the other beamformer in acoular, it uses a variable grid to reconstruct the sources. It can correctly find the positions and the source strengths. To achieve this goal, a global optimization problem is solved using the evolutionary algorithm differential evolution from the scipyt.optimice python package. \n",
    "\n",
    "Below is a synthetic data set with a monopole acoustic source evaluated with BeamformerEA, BeamformerBase and BeamformerCMF. The monoopole source shall be positioned at x_s = 0.5, y_s = 0.0, z_s = 0.75 with a rms amplitude of 1.0 in 1 m distance. The variable search gird for the source shall be defined on the x,y - surface with bounds:  x = [-1.0, 1.0] y = [-1.0, 1.0] z = [0.75, 0.75] d = [0.0, 1.0]. Where d are the bounds for the source strength. "
   ]
  },
  {
   "cell_type": "code",
   "execution_count": 1,
   "metadata": {},
   "outputs": [],
   "source": [
    "from acoular import *\n",
    "from os import path\n",
    "from acoular import __file__ as bpath\n",
    "import matplotlib.pyplot as plt\n",
    "\n",
    "# load some array geometry\n",
    "micgeofile = path.join(path.split(bpath)[0], 'xml', 'array_64.xml')\n",
    "micgeom = MicGeom(from_file=micgeofile) \n",
    "\n",
    "# set sampling frequency and singal time \n",
    "sfreq = 51200\n",
    "time = 1\n",
    "num_samples = time * sfreq\n",
    "block_size = 1024\n",
    "\n",
    "# create some exemplary synthetic data of one monopole point source\n",
    "# with white noise signal. \n",
    "h5savefile = 'Test_dat.h5'\n",
    "n = WNoiseGenerator(sample_freq=sfreq, numsamples=num_samples, seed=0)\n",
    "p = PointSource(signal=n, mics=micgeom, loc=(0.5,0.0,0.75))\n",
    "wh5 = WriteH5(source=p, name=h5savefile)\n",
    "wh5.save()"
   ]
  },
  {
   "cell_type": "markdown",
   "metadata": {},
   "source": [
    "## BeamformerEA"
   ]
  },
  {
   "cell_type": "code",
   "execution_count": 2,
   "metadata": {},
   "outputs": [],
   "source": [
    "# Define boundary for source position and source strength variation.\n",
    "\n",
    "# The amount of monopole sources used for the reconstruction is defined by the \n",
    "# length of the bounds list, which has to be a multiple of 4.  \n",
    "# The amount of sources used for the reconstruction is then len(bounds)/4.\n",
    "# bounds = [(x_s1l, x_s1r),(y_s1l, y_s1r),(z_s1l, z_s1r),(d1l, d1r), ...]\n",
    "# where x_s1l, x_s1r are the lower and upper bounds for the positional variation of source one\n",
    "# and d1l, d1r are the bounds for its source strength variation.\n",
    "# In our example we want to search for the source position and source strength in \n",
    "# the x,y plane at the fixed height z = 0.75.Therefore the third tuple contains (0.75,0.75)\n",
    "\n",
    "# We want to use only one source, so our bounds is the following array:\n",
    "bounds = [(-1., 1.), (-1., 1.), (0.75, 0.75), (0., 1.)]\n",
    "\n",
    "# The BeamformerEA requires an SteeringVector and an PowerSpectra object initialization. \n",
    "\n",
    "# SteeringVector\n",
    "sv_ea = SteeringVector(mics=micgeom) \n",
    "\n",
    "# PowerSpectra\n",
    "ts = TimeSamples(name='Test_dat.h5', sample_freq=sfreq)\n",
    "ps = PowerSpectra(time_data=ts, block_size=block_size, window='Hanning')\n",
    "\n",
    "# initalize BeamformerEA\n",
    "bea = BeamformerEA(steer = sv_ea, freq_data=ps)"
   ]
  },
  {
   "cell_type": "code",
   "execution_count": 3,
   "metadata": {},
   "outputs": [],
   "source": [
    "# set bounds and automaticly sets the number of sources n\n",
    "# which are used for the reconstruction\n",
    "bea.bounds = [(-1., 1.), (-1., 1.), (0.75, 0.75), (0., 1.)]\n",
    "# use two monpole sound source for the reconstruction\n",
    "# bea.bounds = [(-1., 1.), (-1., 1.), (0.75, 0.75), (0., 1.), (-1., 1.), (-1., 1.), (0.75, 0.75), (0., 1.)]\n",
    "# or \n",
    "# # bea.bounds = [(-1., 1.), (-1., 1.), (0.75, 0.75), (0., 1.)] * 2"
   ]
  },
  {
   "cell_type": "code",
   "execution_count": null,
   "metadata": {
    "scrolled": true
   },
   "outputs": [],
   "source": [
    "# reconstructs the sound pressure field in all small band frequencies \n",
    "# uses caching and saves partially results so an interupted calculation can be \n",
    "# resumed at the same place\n",
    "# this calculation takes some time (3 sec. per small band on test system with 1 source,\n",
    "# 36 sec. per small band with 2 sources)\n",
    "res_BEA = bea.synthetic(800, 0)"
   ]
  },
  {
   "cell_type": "code",
   "execution_count": null,
   "metadata": {},
   "outputs": [],
   "source": [
    "# Print small band frequencies\n",
    "print(\"Small Band Frequencies:\")\n",
    "print(ps.fftfreq()[:10])\n",
    "\n",
    "# Print x-position of the reconstructed sound source\n",
    "print(\"X-Position of Reconstructed Sound Source:\")\n",
    "print(bea._gpos[0,:10])\n",
    "\n",
    "# Print y-position of the reconstructed sound source\n",
    "print(\"Y-Position of Reconstructed Sound Source:\")\n",
    "print(bea._gpos[1,:10])\n",
    "\n",
    "# Print z-position of the reconstructed sound source\n",
    "print(\"Z-Position of Reconstructed Sound Source:\")\n",
    "print(bea._gpos[2,:10])\n",
    "\n",
    "# Print sound pressure level of the source in 1 m distance\n",
    "print(\"Sound Pressure Level in 1m Distance:\")\n",
    "print(L_p(bea.result[:10]))"
   ]
  },
  {
   "cell_type": "code",
   "execution_count": null,
   "metadata": {},
   "outputs": [],
   "source": [
    "plt.scatter(bea._gpos[0,::],bea._gpos[1,::],c=L_p(bea.result[:,0]),cmap= 'hot_r')\n",
    "plt.suptitle(\"Reconstruction using BeamformerEA\")\n",
    "plt.xlim(-1,1)\n",
    "plt.ylim(-1,1)\n",
    "plt.clim(60,80)\n",
    "plt.colorbar()"
   ]
  },
  {
   "cell_type": "markdown",
   "metadata": {},
   "source": [
    "# Old way to use BeamformerEA"
   ]
  },
  {
   "cell_type": "code",
   "execution_count": 4,
   "metadata": {
    "scrolled": false
   },
   "outputs": [
    {
     "name": "stdout",
     "output_type": "stream",
     "text": [
      "[('Test_dat_cache.h5', 1)]\n"
     ]
    },
    {
     "name": "stderr",
     "output_type": "stream",
     "text": [
      "/home/mikolaj/anaconda3/envs/acoular/lib/python3.6/site-packages/scipy/optimize/_numdiff.py:519: RuntimeWarning: invalid value encountered in true_divide\n",
      "  J_transposed[i] = df / dx\n"
     ]
    },
    {
     "name": "stdout",
     "output_type": "stream",
     "text": [
      "3.4474070072174072\n",
      "None\n",
      "     fun: 1.735812981860541e-07\n",
      " message: 'Optimization terminated successfully.'\n",
      "    nfev: 2775\n",
      "     nit: 45\n",
      " success: True\n",
      "       x: array([ 4.99383437e-01, -3.35429918e-05,  7.50000000e-01,  2.64208262e-03])\n",
      "68.19886403306755\n"
     ]
    },
    {
     "data": {
      "image/png": "[encoded data removed]",
      "text/plain": [
       "<Figure size 432x288 with 2 Axes>"
      ]
     },
     "metadata": {
      "needs_background": "light"
     },
     "output_type": "display_data"
    }
   ],
   "source": [
    "# The main BeamformerEA method which calculates source position and \n",
    "# source strengths on a variable Grid defined by GRID_BOUNDS in\n",
    "# the narrow band with frequency 800 Hz. \n",
    "import time\n",
    "start_time = time.time()\n",
    "res_BEA_o = bea.calculate(800)\n",
    "stop_time = time.time()\n",
    "print(print(stop_time - start_time))\n",
    "# The BeamformerEA calculate method returns an scipy.optimize.OpimizeResult object, \n",
    "# in which x contains the found coordinates and strength of the sources used for reconstruction.\n",
    "# In our exemplary case this would be: \n",
    "# res_BEA.x[0] - x - coordinate  source 1\n",
    "# res_BEA.x[1] - y - coordinate  source 1\n",
    "# res_BEA.x[2] - z - coordinate  source 1\n",
    "# res_BEA.x[3] - source strength source 1\n",
    "print(res_BEA_o)\n",
    "\n",
    "# For the graphical representation of the results only one point has to be plotted, \n",
    "# which can be achieved with pyplot.scatter.\n",
    "plt.figure()\n",
    "plt.scatter(res_BEA_o.x[0],res_BEA_o.x[1],c=L_p(res_BEA_o.x[3]),cmap= 'hot_r')\n",
    "plt.suptitle(\"Reconstruction using BeamformerEA\")\n",
    "plt.xlim(-1,1)\n",
    "plt.ylim(-1,1)\n",
    "plt.colorbar()\n",
    "\n",
    "print(L_p(res_BEA_o.x[3]))"
   ]
  },
  {
   "cell_type": "markdown",
   "metadata": {},
   "source": [
    "As can be seen, the BeamformerEA finds the the source in the correct position. "
   ]
  },
  {
   "cell_type": "markdown",
   "metadata": {},
   "source": [
    "# BeamformerGridlessOrth"
   ]
  },
  {
   "cell_type": "code",
   "execution_count": 5,
   "metadata": {
    "scrolled": false
   },
   "outputs": [
    {
     "name": "stdout",
     "output_type": "stream",
     "text": [
      "[('Test_dat_cache.h5', 2)]\n"
     ]
    }
   ],
   "source": [
    "GR = RectGrid(x_min=-1,x_max=1, y_min=-1, y_max=1, z=0.75,increment=0.1)\n",
    "SV = SteeringVector(grid=GR, mics=micgeom)\n",
    "bgo = BeamformerGridlessOrth(freq_data=ps,steer=SV, bounds=[(-1.,1.),(-1.,1.),(0.74,0.75)])\n",
    "\n",
    "res_bgo = bgo.synthetic(800,0)"
   ]
  },
  {
   "cell_type": "code",
   "execution_count": 6,
   "metadata": {},
   "outputs": [
    {
     "name": "stdout",
     "output_type": "stream",
     "text": [
      "[  0.  50. 100. 150. 200. 250. 300. 350. 400. 450.]\n",
      "[0. 0. 0. 0. 0. 0. 0. 0. 0. 0.]\n",
      "[0. 0. 0. 0. 0. 0. 0. 0. 0. 0.]\n",
      "[0. 0. 0. 0. 0. 0. 0. 0. 0. 0.]\n",
      "[[-350. -350. -350. ... -350. -350. -350.]\n",
      " [-350. -350. -350. ... -350. -350. -350.]\n",
      " [-350. -350. -350. ... -350. -350. -350.]\n",
      " ...\n",
      " [-350. -350. -350. ... -350. -350. -350.]\n",
      " [-350. -350. -350. ... -350. -350. -350.]\n",
      " [-350. -350. -350. ... -350. -350. -350.]]\n"
     ]
    }
   ],
   "source": [
    "# Print the obtained results\n",
    "print(ps.fftfreq()[:10]) # prints the small band frequencies \n",
    "print(bgo._gpos[0,:10]) # prints the x - position of the reconstructed sound source \n",
    "print(bgo._gpos[1,:10]) # prints the y - position of the reconstructed sound source \n",
    "print(bgo._gpos[2,:10]) # prints the z - position of the reconstructed sound source \n",
    "print(L_p(bgo.result[:10])) # prints the sound pressure level of the source in 1 m distance"
   ]
  },
  {
   "cell_type": "code",
   "execution_count": 7,
   "metadata": {},
   "outputs": [
    {
     "data": {
      "text/plain": [
       "<matplotlib.colorbar.Colorbar at 0x7fc890ce9a90>"
      ]
     },
     "execution_count": 7,
     "metadata": {},
     "output_type": "execute_result"
    },
    {
     "data": {
      "image/png": "[encoded data removed]",
      "text/plain": [
       "<Figure size 432x288 with 2 Axes>"
      ]
     },
     "metadata": {
      "needs_background": "light"
     },
     "output_type": "display_data"
    }
   ],
   "source": [
    "plt.scatter(bgo._gpos[0,::],bgo._gpos[1,::],c=L_p(bgo.result[:,0]),cmap= 'hot_r')\n",
    "plt.suptitle(\"Reconstruction using BeamformerEA\")\n",
    "plt.xlim(-1,1)\n",
    "plt.ylim(-1,1)\n",
    "plt.clim(60,80)\n",
    "plt.colorbar()"
   ]
  },
  {
   "cell_type": "markdown",
   "metadata": {},
   "source": [
    "## BeamformerBase"
   ]
  },
  {
   "cell_type": "code",
   "execution_count": 8,
   "metadata": {},
   "outputs": [
    {
     "name": "stdout",
     "output_type": "stream",
     "text": [
      "[('Test_dat_cache.h5', 3)]\n"
     ]
    },
    {
     "data": {
      "text/plain": [
       "<matplotlib.colorbar.Colorbar at 0x7fc890aa4dd8>"
      ]
     },
     "execution_count": 8,
     "metadata": {},
     "output_type": "execute_result"
    },
    {
     "data": {
      "image/png": "[encoded data removed]",
      "text/plain": [
       "<Figure size 432x288 with 2 Axes>"
      ]
     },
     "metadata": {
      "needs_background": "light"
     },
     "output_type": "display_data"
    }
   ],
   "source": [
    "#define grid and steering vector for BeamformerBase and BeamformerCMF\n",
    "GR = RectGrid(x_min=-1,x_max=1, y_min=-1, y_max=1, z=0.75,increment=0.1)\n",
    "SV = SteeringVector(grid=GR, mics=micgeom)\n",
    "\n",
    "beb = BeamformerBase(freq_data=ps,steer=SV)\n",
    "res_BEB = beb.synthetic(800,0)\n",
    "\n",
    "im = plt.imshow(L_p(res_BEB.T),vmax=70,vmin=65,extent=GR.extend(),cmap= 'hot_r')\n",
    "plt.suptitle(\"BeamformerBase\")\n",
    "plt.colorbar()"
   ]
  },
  {
   "cell_type": "markdown",
   "metadata": {},
   "source": [
    "## BeamformerCMF"
   ]
  },
  {
   "cell_type": "code",
   "execution_count": 9,
   "metadata": {},
   "outputs": [
    {
     "name": "stdout",
     "output_type": "stream",
     "text": [
      "[('Test_dat_cache.h5', 4)]\n"
     ]
    },
    {
     "data": {
      "text/plain": [
       "<matplotlib.colorbar.Colorbar at 0x7fc890374320>"
      ]
     },
     "execution_count": 9,
     "metadata": {},
     "output_type": "execute_result"
    },
    {
     "data": {
      "image/png": "[encoded data removed]",
      "text/plain": [
       "<Figure size 432x288 with 2 Axes>"
      ]
     },
     "metadata": {
      "needs_background": "light"
     },
     "output_type": "display_data"
    }
   ],
   "source": [
    "becmf = BeamformerCMF(freq_data=ps,steer=SV)\n",
    "res_CMF = becmf.synthetic(800,0)\n",
    "\n",
    "im = plt.imshow(L_p(res_CMF.T),vmax=70,vmin=65,extent=GR.extend(),cmap= 'hot_r')\n",
    "plt.suptitle(\"BeamformerCMF\")\n",
    "\n",
    "plt.colorbar()"
   ]
  },
  {
   "cell_type": "markdown",
   "metadata": {},
   "source": [
    "The results from BeamformerBase and BeamformerCMF are close to BeamformerEA, source position and strength are similar. Nevertheless the results are only conditionally comparable, because the BeamformerEA uses a variable grid.  "
   ]
  }
 ],
 "metadata": {
  "kernelspec": {
   "display_name": "acoular",
   "language": "python",
   "name": "acoular"
  },
  "language_info": {
   "codemirror_mode": {
    "name": "ipython",
    "version": 3
   },
   "file_extension": ".py",
   "mimetype": "text/x-python",
   "name": "python",
   "nbconvert_exporter": "python",
   "pygments_lexer": "ipython3",
   "version": "3.6.10"
  }
 },
 "nbformat": 4,
 "nbformat_minor": 4
}
