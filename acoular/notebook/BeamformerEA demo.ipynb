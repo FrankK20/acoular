{
 "cells": [
  {
   "cell_type": "code",
   "execution_count": 1,
   "metadata": {},
   "outputs": [],
   "source": [
    "from acoular import *\n",
    "from os import path\n",
    "from acoular import __file__ as bpath\n",
    "import matplotlib.pyplot as plt"
   ]
  },
  {
   "cell_type": "code",
   "execution_count": 2,
   "metadata": {},
   "outputs": [],
   "source": [
    "micgeofile = path.join(path.split(bpath)[0], 'xml', 'array_64.xml')"
   ]
  },
  {
   "cell_type": "code",
   "execution_count": 3,
   "metadata": {},
   "outputs": [],
   "source": [
    "SFREQ = 51200\n",
    "TIME = 1\n",
    "NUM_SAMPLES = TIME * SFREQ\n",
    "BLOCK_SIZE = 1024\n",
    "MICGEOM = MicGeom(from_file=micgeofile) "
   ]
  },
  {
   "cell_type": "code",
   "execution_count": 4,
   "metadata": {},
   "outputs": [],
   "source": [
    "# create \n",
    "h5savefile = 'Test_dat.h5'\n",
    "n = WNoiseGenerator(sample_freq=SFREQ, numsamples=NUM_SAMPLES, seed=0)\n",
    "p = PointSource(signal=n, mics=MICGEOM, loc=(0.5,0.0,0.75))\n",
    "wh5 = WriteH5(source=p, name=h5savefile)\n",
    "wh5.save()"
   ]
  },
  {
   "cell_type": "code",
   "execution_count": 33,
   "metadata": {},
   "outputs": [],
   "source": [
    "#define boundry for positional and source strenght variation\n",
    "GRID_BOUNDS = [(-1, 1), (-1, 1), (0.75, 0.75), (0, 1)]\n",
    "PG = create_rand_pgrid(GRID_BOUNDS, 1) \n",
    "GR = RectGrid(x_min=-1,x_max=1, y_min=-1, y_max=1, z=0.75,increment=0.1)\n",
    "SV_EA = SteeringVector(mics=MICGEOM, ref=1.0) # defenition of the steering vector\n",
    "SV = SteeringVector(grid=GR, mics=MICGEOM, ref=1.0) # defenition of the steering vector"
   ]
  },
  {
   "cell_type": "code",
   "execution_count": 34,
   "metadata": {},
   "outputs": [],
   "source": [
    "ts = TimeSamples(name='Test_dat.h5', sample_freq=SFREQ)\n",
    "ps = PowerSpectra(time_data=ts, block_size=BLOCK_SIZE, window='Hanning')\n",
    "bea = BeamformerEA(steer = SV_EA, freq_data=ps)"
   ]
  },
  {
   "cell_type": "code",
   "execution_count": 35,
   "metadata": {},
   "outputs": [
    {
     "name": "stdout",
     "output_type": "stream",
     "text": [
      "[('Test_dat_cache.h5', 2)]\n"
     ]
    }
   ],
   "source": [
    "res_BEA = bea.calculate(GRID_BOUNDS, 800)"
   ]
  },
  {
   "cell_type": "code",
   "execution_count": 20,
   "metadata": {},
   "outputs": [
    {
     "data": {
      "text/plain": [
       "     fun: 1.7352363151408126e-07\n",
       " message: 'Optimization terminated successfully.'\n",
       "    nfev: 2295\n",
       "     nit: 37\n",
       " success: True\n",
       "       x: array([ 4.99374618e-01, -4.77978887e-05,  7.50000000e-01,  2.64199918e-03])"
      ]
     },
     "execution_count": 20,
     "metadata": {},
     "output_type": "execute_result"
    }
   ],
   "source": [
    "res_BEA"
   ]
  },
  {
   "cell_type": "code",
   "execution_count": 23,
   "metadata": {},
   "outputs": [
    {
     "data": {
      "text/plain": [
       "numpy.ndarray"
      ]
     },
     "execution_count": 23,
     "metadata": {},
     "output_type": "execute_result"
    }
   ],
   "source": [
    "type(res_BEA.x)"
   ]
  },
  {
   "cell_type": "code",
   "execution_count": 18,
   "metadata": {},
   "outputs": [
    {
     "data": {
      "text/plain": [
       "array([ 4.99374618e-01, -4.77978887e-05,  7.50000000e-01,  2.64200918e-03])"
      ]
     },
     "execution_count": 18,
     "metadata": {},
     "output_type": "execute_result"
    }
   ],
   "source": [
    "bea.sol[:,-1]"
   ]
  },
  {
   "cell_type": "code",
   "execution_count": 8,
   "metadata": {},
   "outputs": [
    {
     "data": {
      "text/plain": [
       "<matplotlib.colorbar.Colorbar at 0x7f208e153a20>"
      ]
     },
     "execution_count": 8,
     "metadata": {},
     "output_type": "execute_result"
    },
    {
     "data": {
      "image/png": "[encoded data removed]",
      "text/plain": [
       "<Figure size 432x288 with 2 Axes>"
      ]
     },
     "metadata": {
      "needs_background": "light"
     },
     "output_type": "display_data"
    }
   ],
   "source": [
    "plt.figure()\n",
    "plt.scatter(res_BEA.x[0],res_BEA.x[1],c=L_p(res_BEA.x[3]),cmap= 'hot_r')\n",
    "plt.suptitle(\"Reconstruction using BeamformerEA\")\n",
    "plt.xlim(-1,1)\n",
    "plt.ylim(-1,1)\n",
    "plt.colorbar()"
   ]
  },
  {
   "cell_type": "code",
   "execution_count": 9,
   "metadata": {},
   "outputs": [
    {
     "data": {
      "text/plain": [
       "68.19853514156816"
      ]
     },
     "execution_count": 9,
     "metadata": {},
     "output_type": "execute_result"
    }
   ],
   "source": [
    "L_p(res_BEA.x[3])"
   ]
  },
  {
   "cell_type": "code",
   "execution_count": 10,
   "metadata": {},
   "outputs": [],
   "source": [
    "#define boundry for positional and source strenght variation\n",
    "GRID_BOUNDS = [(-1, 1), (-1, 1), (0.75, 0.75), (0, 1)]\n",
    "PG = create_rand_pgrid(GRID_BOUNDS, 1) \n",
    "GR = RectGrid(x_min=-1,x_max=1, y_min=-1, y_max=1, z=0.75,increment=0.1)\n",
    "SV_EA = SteeringVector(grid=PG, mics=MICGEOM, ref=1.0) # defenition of the steering vector\n",
    "SV = SteeringVector(grid=GR, mics=MICGEOM, ref=1.0) # defenition of the steering vector"
   ]
  },
  {
   "cell_type": "code",
   "execution_count": 64,
   "metadata": {},
   "outputs": [
    {
     "name": "stdout",
     "output_type": "stream",
     "text": [
      "[('Test_dat_cache.h5', 30)]\n"
     ]
    }
   ],
   "source": [
    "SV = SteeringVector(grid=GR, mics=MICGEOM) # defenition of the steering vector\n",
    "beb = BeamformerBase(freq_data=ps,steer=SV)\n",
    "#beb = BeamformerBase(freq_data=ps,grid=GR, mpos=MICGEOM)\n",
    "## weird behaeviour BeamformerBase gives different result with depracted grid and mpos traits \n",
    "## and when using SteeringVector\n",
    "res_BEB = beb.synthetic(800,0)"
   ]
  },
  {
   "cell_type": "code",
   "execution_count": 65,
   "metadata": {},
   "outputs": [
    {
     "data": {
      "text/plain": [
       "<matplotlib.colorbar.Colorbar at 0x7f208d039cc0>"
      ]
     },
     "execution_count": 65,
     "metadata": {},
     "output_type": "execute_result"
    },
    {
     "data": {
      "image/png": "[encoded data removed]",
      "text/plain": [
       "<Figure size 432x288 with 2 Axes>"
      ]
     },
     "metadata": {
      "needs_background": "light"
     },
     "output_type": "display_data"
    }
   ],
   "source": [
    "im = plt.imshow(L_p(res_BEB.T),vmax=70,vmin=65,extent=GR.extend(),cmap= 'hot_r')\n",
    "plt.suptitle(\"BeamformerBase\")\n",
    "plt.colorbar()"
   ]
  },
  {
   "cell_type": "code",
   "execution_count": 58,
   "metadata": {},
   "outputs": [
    {
     "name": "stdout",
     "output_type": "stream",
     "text": [
      "[('Test_dat_cache.h5', 27)]\n"
     ]
    }
   ],
   "source": [
    "#becmf = BeamformerCMF(freq_data=ps,grid=GR, mpos=MICGEOM)\n",
    "becmf = BeamformerCMF(freq_data=ps,steer=SV)\n",
    "\n",
    "res_CMF = becmf.synthetic(800,0)"
   ]
  },
  {
   "cell_type": "code",
   "execution_count": 59,
   "metadata": {},
   "outputs": [
    {
     "data": {
      "text/plain": [
       "<matplotlib.colorbar.Colorbar at 0x7f208d2c3c50>"
      ]
     },
     "execution_count": 59,
     "metadata": {},
     "output_type": "execute_result"
    },
    {
     "data": {
      "image/png": "[encoded data removed]",
      "text/plain": [
       "<Figure size 432x288 with 2 Axes>"
      ]
     },
     "metadata": {
      "needs_background": "light"
     },
     "output_type": "display_data"
    }
   ],
   "source": [
    "im = plt.imshow(L_p(res_CMF.T),vmax=70,vmin=65,extent=GR.extend(),cmap= 'hot_r')\n",
    "plt.suptitle(\"BeamformerBase\")\n",
    "\n",
    "plt.colorbar()"
   ]
  },
  {
   "cell_type": "code",
   "execution_count": null,
   "metadata": {},
   "outputs": [],
   "source": []
  }
 ],
 "metadata": {
  "kernelspec": {
   "display_name": "acoular",
   "language": "python",
   "name": "acoular"
  },
  "language_info": {
   "codemirror_mode": {
    "name": "ipython",
    "version": 3
   },
   "file_extension": ".py",
   "mimetype": "text/x-python",
   "name": "python",
   "nbconvert_exporter": "python",
   "pygments_lexer": "ipython3",
   "version": "3.6.10"
  }
 },
 "nbformat": 4,
 "nbformat_minor": 4
}
