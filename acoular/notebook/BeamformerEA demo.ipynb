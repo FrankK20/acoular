{
 "cells": [
  {
   "cell_type": "markdown",
   "metadata": {},
   "source": [
    "## BeamformerEA demo notebook\n",
    "This notebook demonstartes the use of the BeamformerEA acoular class. The BeamformerEA reconstructs \n",
    "an acoustic field using monopole sound sources. Unlike the other beamformer in acoular, it uses a variable grid to reconstruct the sources. It can correctly find the positions and the source strengths. To achieve this goal, a global optimization problem is solved using the evolutionary algorithm differential evolution from the scipyt.optimice python package. \n",
    "\n",
    "Below is a synthetic data set with a monopole acoustic source evaluated with BeamformerEA, BeamformerBase and BeamformerCMF. The monoopole source shall be positioned at x_s = 0.5, y_s = 0.0, z_s = 0.75 with a rms amplitude of 1.0 in 1 m distance. The variable search gird for the source shall be defined on the x,y - surface with bounds:  x = [-1.0, 1.0] y = [-1.0, 1.0] z = [0.75, 0.75] d = [0.0, 1.0]. Where d are the bounds for the source strength "
   ]
  },
  {
   "cell_type": "code",
   "execution_count": 1,
   "metadata": {},
   "outputs": [],
   "source": [
    "from acoular import *\n",
    "from os import path\n",
    "from acoular import __file__ as bpath\n",
    "import matplotlib.pyplot as plt\n",
    "\n",
    "# load some array geometry\n",
    "micgeofile = path.join(path.split(bpath)[0], 'xml', 'array_64.xml')\n",
    "MICGEOM = MicGeom(from_file=micgeofile) \n",
    "\n",
    "# set sampling frequency and singal time \n",
    "SFREQ = 51200\n",
    "TIME = 1\n",
    "NUM_SAMPLES = TIME * SFREQ\n",
    "BLOCK_SIZE = 1024\n",
    "\n",
    "# create some exemplary synthetic data of one monopole point source\n",
    "# with white noise signal. \n",
    "h5savefile = 'Test_dat.h5'\n",
    "n = WNoiseGenerator(sample_freq=SFREQ, numsamples=NUM_SAMPLES, seed=0)\n",
    "p = PointSource(signal=n, mics=MICGEOM, loc=(0.5,0.0,0.75))\n",
    "wh5 = WriteH5(source=p, name=h5savefile)\n",
    "wh5.save()"
   ]
  },
  {
   "cell_type": "markdown",
   "metadata": {},
   "source": [
    "## BeamformerEA"
   ]
  },
  {
   "cell_type": "code",
   "execution_count": 2,
   "metadata": {},
   "outputs": [],
   "source": [
    "# Define boundary for source position and source strength variation.\n",
    "# The amount of monopole sources used for the reconstruction is defined by the \n",
    "# length of the GRID_BOUNDS array, which has to be a multiple of 4.  \n",
    "# The amount of sources used for the reconstruction is then len(GRID_BOUNDS).\n",
    "# GRID_BOUNDS = [(x_s1l, x_s1r),(y_s1l, y_s1r),(z_s1l, z_s1r),(d1l, d1r), ...]\n",
    "# where x_s1l, x_s1r are the lower and upper bounds for the positional variation of source one\n",
    "# and d1l, d1r are the bounds for its source strength variation.\n",
    "# In our example we want to search for the source position and source strength in \n",
    "# the x,y plane at the fixed height z = 0.75.Therefore the third tuple contains (0.75,0.75)\n",
    "# We want to use only one source, so our GRID_BOUDS is array:\n",
    "GRID_BOUNDS = [(-1, 1), (-1, 1), (0.75, 0.75), (0, 1)]\n",
    "# The BeamformerEA requires an MicGeom object, an PowerSpectra object and a GRID_BOUNDS array \n",
    "# for source reconstruction. In order to avoid deprecation warnings the MicGeom object will be\n",
    "# passed through the SteeringVector object, which may change in the future.\n",
    "SV_EA = SteeringVector(mics=MICGEOM) \n",
    "ts = TimeSamples(name='Test_dat.h5', sample_freq=SFREQ)\n",
    "ps = PowerSpectra(time_data=ts, block_size=BLOCK_SIZE, window='Hanning')\n",
    "bea = BeamformerEA(steer = SV_EA, freq_data=ps)"
   ]
  },
  {
   "cell_type": "code",
   "execution_count": 20,
   "metadata": {},
   "outputs": [],
   "source": [
    "bea.cost_function = 'funcbeam'"
   ]
  },
  {
   "cell_type": "code",
   "execution_count": 21,
   "metadata": {},
   "outputs": [],
   "source": [
    "# The main BeamformerEA method which calculates source position and \n",
    "# source strengths on a variable Grid defined by GRID_BOUNDS in\n",
    "# the narrow band with frequency 800 Hz. \n",
    "res_BEA = bea.calculate(GRID_BOUNDS, 800)"
   ]
  },
  {
   "cell_type": "code",
   "execution_count": 22,
   "metadata": {},
   "outputs": [
    {
     "data": {
      "text/plain": [
       "     fun: -520825488007882.8\n",
       " message: 'Optimization terminated successfully.'\n",
       "    nfev: 735\n",
       "     nit: 11\n",
       " success: True\n",
       "       x: array([4.98024933e-01, 3.32892548e-04, 7.50000000e-01, 3.80502485e-01])"
      ]
     },
     "execution_count": 22,
     "metadata": {},
     "output_type": "execute_result"
    }
   ],
   "source": [
    "# The BeamformerEA calculate method returns an scipy.optimize.OpimizeResult object, \n",
    "# in which x contains the found coordinates and strength of the sources used for reconstruction.\n",
    "# In our exemplary case this would be: \n",
    "# res_BEA.x[0] - x - coordinate  source 1\n",
    "# res_BEA.x[1] - y - coordinate  source 1\n",
    "# res_BEA.x[2] - z - coordinate  source 1\n",
    "# res_BEA.x[3] - source strength source 1\n",
    "res_BEA"
   ]
  },
  {
   "cell_type": "code",
   "execution_count": 23,
   "metadata": {},
   "outputs": [
    {
     "data": {
      "text/plain": [
       "<matplotlib.colorbar.Colorbar at 0x7f526d146240>"
      ]
     },
     "execution_count": 23,
     "metadata": {},
     "output_type": "execute_result"
    },
    {
     "data": {
      "image/png": "[encoded data removed]",
      "text/plain": [
       "<Figure size 432x288 with 2 Axes>"
      ]
     },
     "metadata": {
      "needs_background": "light"
     },
     "output_type": "display_data"
    }
   ],
   "source": [
    "# For the graphical representation of the results only one point has to be plotted, \n",
    "# which can be achieved with pyplot.scatter.\n",
    "plt.figure()\n",
    "plt.scatter(res_BEA.x[0],res_BEA.x[1],c=L_p(res_BEA.x[3]),cmap= 'hot_r')\n",
    "plt.suptitle(\"Reconstruction using BeamformerEA\")\n",
    "plt.xlim(-1,1)\n",
    "plt.ylim(-1,1)\n",
    "plt.colorbar()"
   ]
  },
  {
   "cell_type": "code",
   "execution_count": 24,
   "metadata": {},
   "outputs": [
    {
     "data": {
      "text/plain": [
       "89.78297506602571"
      ]
     },
     "execution_count": 24,
     "metadata": {},
     "output_type": "execute_result"
    }
   ],
   "source": [
    "L_p(res_BEA.x[3])"
   ]
  },
  {
   "cell_type": "markdown",
   "metadata": {},
   "source": [
    "As can be seen, the BeamformerEA finds the the source in the correct position. "
   ]
  },
  {
   "cell_type": "markdown",
   "metadata": {},
   "source": [
    "## BeamformerBase"
   ]
  },
  {
   "cell_type": "code",
   "execution_count": 59,
   "metadata": {},
   "outputs": [
    {
     "name": "stdout",
     "output_type": "stream",
     "text": [
      "[('Test_dat_cache.h5', 10)]\n"
     ]
    },
    {
     "data": {
      "text/plain": [
       "<matplotlib.colorbar.Colorbar at 0x7fbd845585f8>"
      ]
     },
     "execution_count": 59,
     "metadata": {},
     "output_type": "execute_result"
    },
    {
     "data": {
      "image/png": "[encoded data removed]",
      "text/plain": [
       "<Figure size 432x288 with 2 Axes>"
      ]
     },
     "metadata": {
      "needs_background": "light"
     },
     "output_type": "display_data"
    }
   ],
   "source": [
    "#define grid and steering vector for BeamformerBase and BeamformerCMF\n",
    "GR = RectGrid(x_min=-1,x_max=1, y_min=-1, y_max=1, z=0.75,increment=0.1)\n",
    "SV = SteeringVector(grid=GR, mics=MICGEOM)\n",
    "\n",
    "beb = BeamformerBase(freq_data=ps,steer=SV)\n",
    "res_BEB = beb.synthetic(800,0)\n",
    "\n",
    "im = plt.imshow(L_p(res_BEB.T),vmax=70,vmin=65,extent=GR.extend(),cmap= 'hot_r')\n",
    "plt.suptitle(\"BeamformerBase\")\n",
    "plt.colorbar()"
   ]
  },
  {
   "cell_type": "markdown",
   "metadata": {},
   "source": [
    "## BeamformerCMF"
   ]
  },
  {
   "cell_type": "code",
   "execution_count": 60,
   "metadata": {},
   "outputs": [
    {
     "name": "stdout",
     "output_type": "stream",
     "text": [
      "[('Test_dat_cache.h5', 11)]\n"
     ]
    },
    {
     "data": {
      "text/plain": [
       "<matplotlib.colorbar.Colorbar at 0x7fbd847d9470>"
      ]
     },
     "execution_count": 60,
     "metadata": {},
     "output_type": "execute_result"
    },
    {
     "data": {
      "image/png": "[encoded data removed]",
      "text/plain": [
       "<Figure size 432x288 with 2 Axes>"
      ]
     },
     "metadata": {
      "needs_background": "light"
     },
     "output_type": "display_data"
    }
   ],
   "source": [
    "#becmf = BeamformerCMF(freq_data=ps,grid=GR, mpos=MICGEOM)\n",
    "becmf = BeamformerCMF(freq_data=ps,steer=SV)\n",
    "res_CMF = becmf.synthetic(800,0)\n",
    "\n",
    "im = plt.imshow(L_p(res_CMF.T),vmax=70,vmin=65,extent=GR.extend(),cmap= 'hot_r')\n",
    "plt.suptitle(\"BeamformerCMF\")\n",
    "\n",
    "plt.colorbar()"
   ]
  },
  {
   "cell_type": "markdown",
   "metadata": {},
   "source": [
    "The results from BeamformerBase and BeamformerCMF are close to BeamformerEA, source position and strength are similar. Nevertheless the results are only conditionally comparable, because the BeamformerEA uses a variable grid.  "
   ]
  }
 ],
 "metadata": {
  "kernelspec": {
   "display_name": "acoular",
   "language": "python",
   "name": "acoular"
  },
  "language_info": {
   "codemirror_mode": {
    "name": "ipython",
    "version": 3
   },
   "file_extension": ".py",
   "mimetype": "text/x-python",
   "name": "python",
   "nbconvert_exporter": "python",
   "pygments_lexer": "ipython3",
   "version": "3.6.10"
  }
 },
 "nbformat": 4,
 "nbformat_minor": 4
}
